{
 "cells": [
  {
   "cell_type": "code",
   "execution_count": 90,
   "id": "83c19bcc",
   "metadata": {},
   "outputs": [
    {
     "name": "stdout",
     "output_type": "stream",
     "text": [
      "Data = '''Ahmed Raafat 01023456789 ahmed@gmail.com\n",
      "mohamed raafat 01234567891 mohamed@gmail.com\n",
      "malik raafat 01003280359 malik@gmail.com\n",
      "boody gamal 01097433304 boody@gmail.com\n",
      "mohamed ashraf 01123456789 mo@gmail.com\n",
      "ali nour 01020622418 ali@gmail.com\n",
      "ahmed yasser 01234567882 AhmedYass@gmail.com\n",
      "ziad ashraf 01156567882 ziad@gmail.com\n",
      "youssef ashraf 01297433304 Yousef@gmail.com\n",
      "'''\n",
      "\n"
     ]
    }
   ],
   "source": [
    "file = open(\"Data.txt\",\"r\")\n",
    "print(file.read())"
   ]
  },
  {
   "cell_type": "code",
   "execution_count": 91,
   "id": "df06d4f4",
   "metadata": {},
   "outputs": [],
   "source": [
    "Data = '''Ahmed Raafat 01023456789 ahmed@gmail.com\n",
    "mohamed raafat 01234567891 mohamed@gmail.com\n",
    "malik raafat 01003280359 malik@gmail.com\n",
    "boody gamal 01097433304 boody@gmail.com\n",
    "mohamed ashraf 01123456789 mo@gmail.com\n",
    "ali nour 01020622418 ali@gmail.com\n",
    "ahmed yasser 01234567882 AhmedYass@gmail.com\n",
    "ziad ashraf 01156567882 ziad@gmail.com\n",
    "youssef ashraf 01297433304 Yousef@gmail.com\n",
    "'''"
   ]
  },
  {
   "cell_type": "code",
   "execution_count": 92,
   "id": "7a4dfc6f",
   "metadata": {},
   "outputs": [],
   "source": [
    "import re"
   ]
  },
  {
   "cell_type": "code",
   "execution_count": 93,
   "id": "40518623",
   "metadata": {},
   "outputs": [
    {
     "name": "stdout",
     "output_type": "stream",
     "text": [
      "<re.Match object; span=(13, 24), match='01023456789'>\n",
      "<re.Match object; span=(99, 110), match='01003280359'>\n",
      "<re.Match object; span=(139, 150), match='01097433304'>\n",
      "<re.Match object; span=(216, 227), match='01020622418'>\n"
     ]
    }
   ],
   "source": [
    "pattern = re.compile(\"010\\d{8}\")\n",
    "matches = pattern.finditer(Data)\n",
    "\n",
    "phone_number = []\n",
    "\n",
    "for match in matches:\n",
    "    start = match.span()[0]\n",
    "    end = match.span()[1]\n",
    "    phone_number.append(Data[start:end])\n",
    "    print(match)"
   ]
  },
  {
   "cell_type": "code",
   "execution_count": 94,
   "id": "de4973f1",
   "metadata": {},
   "outputs": [
    {
     "name": "stdout",
     "output_type": "stream",
     "text": [
      "<re.Match object; span=(56, 67), match='01234567891'>\n",
      "<re.Match object; span=(255, 266), match='01234567882'>\n",
      "<re.Match object; span=(341, 352), match='01297433304'>\n"
     ]
    }
   ],
   "source": [
    "pattern = re.compile(\"012\\d{8}\")\n",
    "matches = pattern.finditer(Data)\n",
    "\n",
    "for match in matches:\n",
    "    start = match.span()[0]\n",
    "    end = match.span()[1]\n",
    "    phone_number.append(Data[start:end])\n",
    "    print(match)"
   ]
  },
  {
   "cell_type": "code",
   "execution_count": 95,
   "id": "1f5e76a3",
   "metadata": {},
   "outputs": [
    {
     "name": "stdout",
     "output_type": "stream",
     "text": [
      "<re.Match object; span=(182, 193), match='01123456789'>\n",
      "<re.Match object; span=(299, 310), match='01156567882'>\n"
     ]
    }
   ],
   "source": [
    "pattern = re.compile(\"011\\d{8}\")\n",
    "matches = pattern.finditer(Data)\n",
    "\n",
    "for match in matches:\n",
    "    start = match.span()[0]\n",
    "    end = match.span()[1]\n",
    "    phone_number.append(Data[start:end])\n",
    "    print(match)"
   ]
  },
  {
   "cell_type": "code",
   "execution_count": 96,
   "id": "352cdace",
   "metadata": {},
   "outputs": [
    {
     "data": {
      "text/plain": [
       "['01023456789',\n",
       " '01003280359',\n",
       " '01097433304',\n",
       " '01020622418',\n",
       " '01234567891',\n",
       " '01234567882',\n",
       " '01297433304',\n",
       " '01123456789',\n",
       " '01156567882']"
      ]
     },
     "execution_count": 96,
     "metadata": {},
     "output_type": "execute_result"
    }
   ],
   "source": [
    "phone_number"
   ]
  },
  {
   "cell_type": "code",
   "execution_count": 98,
   "id": "60029696",
   "metadata": {},
   "outputs": [
    {
     "name": "stdout",
     "output_type": "stream",
     "text": [
      "<re.Match object; span=(25, 40), match='ahmed@gmail.com'>\n",
      "<re.Match object; span=(68, 85), match='mohamed@gmail.com'>\n",
      "<re.Match object; span=(111, 126), match='malik@gmail.com'>\n",
      "<re.Match object; span=(151, 166), match='boody@gmail.com'>\n",
      "<re.Match object; span=(194, 206), match='mo@gmail.com'>\n",
      "<re.Match object; span=(228, 241), match='ali@gmail.com'>\n",
      "<re.Match object; span=(267, 286), match='AhmedYass@gmail.com'>\n",
      "<re.Match object; span=(311, 325), match='ziad@gmail.com'>\n",
      "<re.Match object; span=(353, 369), match='Yousef@gmail.com'>\n"
     ]
    }
   ],
   "source": [
    "pattern = re.compile(r\"[a-zA-Z]+@[a-zA-Z]+\\.com\")\n",
    "matches = pattern.finditer(Data)\n",
    "\n",
    "email = []\n",
    "\n",
    "for match in matches:\n",
    "    start = match.span()[0]\n",
    "    end = match.span()[1]\n",
    "    email.append(Data[start:end])\n",
    "    print(match)"
   ]
  },
  {
   "cell_type": "code",
   "execution_count": 99,
   "id": "a4e3e917",
   "metadata": {},
   "outputs": [
    {
     "data": {
      "text/plain": [
       "['ahmed@gmail.com',\n",
       " 'mohamed@gmail.com',\n",
       " 'malik@gmail.com',\n",
       " 'boody@gmail.com',\n",
       " 'mo@gmail.com',\n",
       " 'ali@gmail.com',\n",
       " 'AhmedYass@gmail.com',\n",
       " 'ziad@gmail.com',\n",
       " 'Yousef@gmail.com']"
      ]
     },
     "execution_count": 99,
     "metadata": {},
     "output_type": "execute_result"
    }
   ],
   "source": [
    "email"
   ]
  },
  {
   "cell_type": "code",
   "execution_count": 102,
   "id": "4276cea4",
   "metadata": {},
   "outputs": [
    {
     "name": "stdout",
     "output_type": "stream",
     "text": [
      "<re.Match object; span=(0, 12), match='Ahmed Raafat'>\n",
      "<re.Match object; span=(41, 55), match='mohamed raafat'>\n",
      "<re.Match object; span=(86, 98), match='malik raafat'>\n",
      "<re.Match object; span=(127, 138), match='boody gamal'>\n",
      "<re.Match object; span=(167, 181), match='mohamed ashraf'>\n",
      "<re.Match object; span=(207, 215), match='ali nour'>\n",
      "<re.Match object; span=(242, 254), match='ahmed yasser'>\n",
      "<re.Match object; span=(287, 298), match='ziad ashraf'>\n",
      "<re.Match object; span=(326, 340), match='youssef ashraf'>\n"
     ]
    }
   ],
   "source": [
    "pattern = re.compile(\"[a-zA-Z]+ [a-zA-Z]+\")\n",
    "matches = pattern.finditer(Data)\n",
    "\n",
    "names = []\n",
    "\n",
    "for match in matches:\n",
    "    start = match.span()[0]\n",
    "    end = match.span()[1]\n",
    "    names.append(Data[start:end])\n",
    "    print(match)"
   ]
  },
  {
   "cell_type": "code",
   "execution_count": 103,
   "id": "402cc193",
   "metadata": {},
   "outputs": [
    {
     "data": {
      "text/plain": [
       "['Ahmed Raafat',\n",
       " 'mohamed raafat',\n",
       " 'malik raafat',\n",
       " 'boody gamal',\n",
       " 'mohamed ashraf',\n",
       " 'ali nour',\n",
       " 'ahmed yasser',\n",
       " 'ziad ashraf',\n",
       " 'youssef ashraf']"
      ]
     },
     "execution_count": 103,
     "metadata": {},
     "output_type": "execute_result"
    }
   ],
   "source": [
    "names"
   ]
  },
  {
   "cell_type": "code",
   "execution_count": 105,
   "id": "67f8d61c",
   "metadata": {},
   "outputs": [
    {
     "data": {
      "text/plain": [
       "['01023456789',\n",
       " '01003280359',\n",
       " '01097433304',\n",
       " '01020622418',\n",
       " '01234567891',\n",
       " '01234567882',\n",
       " '01297433304',\n",
       " '01123456789',\n",
       " '01156567882']"
      ]
     },
     "execution_count": 105,
     "metadata": {},
     "output_type": "execute_result"
    }
   ],
   "source": [
    "phone_number"
   ]
  },
  {
   "cell_type": "code",
   "execution_count": 106,
   "id": "4fcb4c93",
   "metadata": {},
   "outputs": [
    {
     "data": {
      "text/plain": [
       "['ahmed@gmail.com',\n",
       " 'mohamed@gmail.com',\n",
       " 'malik@gmail.com',\n",
       " 'boody@gmail.com',\n",
       " 'mo@gmail.com',\n",
       " 'ali@gmail.com',\n",
       " 'AhmedYass@gmail.com',\n",
       " 'ziad@gmail.com',\n",
       " 'Yousef@gmail.com']"
      ]
     },
     "execution_count": 106,
     "metadata": {},
     "output_type": "execute_result"
    }
   ],
   "source": [
    "email"
   ]
  },
  {
   "cell_type": "code",
   "execution_count": null,
   "id": "bc650bc4",
   "metadata": {},
   "outputs": [],
   "source": []
  }
 ],
 "metadata": {
  "kernelspec": {
   "display_name": "Python 3 (ipykernel)",
   "language": "python",
   "name": "python3"
  },
  "language_info": {
   "codemirror_mode": {
    "name": "ipython",
    "version": 3
   },
   "file_extension": ".py",
   "mimetype": "text/x-python",
   "name": "python",
   "nbconvert_exporter": "python",
   "pygments_lexer": "ipython3",
   "version": "3.10.9"
  }
 },
 "nbformat": 4,
 "nbformat_minor": 5
}
